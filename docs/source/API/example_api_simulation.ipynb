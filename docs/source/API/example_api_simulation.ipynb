{
 "cells": [
  {
   "cell_type": "markdown",
   "id": "be79a9d5",
   "metadata": {},
   "source": [
    "# Run simulation with API\n",
    "\n",
    "<div class=\"alert alert-warning\">\n",
    "\n",
    "The API is still under development and can change at any time without warning. \n",
    "\n",
    "</div>\n",
    "\n",
    "This example shows how to use the API in simulation mode. `PROJECT_PATH` is \n",
    "the path to the project directory. `DATA_FILE` is the path to the data file.\n",
    "Used in the simulation. `EXPORT_PATH` is the path to the directory where\n",
    "the results will be exported as a `.asreview` file.\t"
   ]
  },
  {
   "cell_type": "code",
   "execution_count": 1,
   "id": "5ea4a81e",
   "metadata": {},
   "outputs": [],
   "source": [
    "from asreview import ASReviewData, ASReviewProject\n",
    "from asreview.review import ReviewSimulate\n",
    "\n",
    "from asreview.models.classifiers import NaiveBayesClassifier\n",
    "from asreview.models.query import MaxQuery\n",
    "from asreview.models.balance import SimpleBalance\n",
    "from asreview.models.feature_extraction import Tfidf"
   ]
  },
  {
   "cell_type": "markdown",
   "id": "abd0c6fc",
   "metadata": {},
   "source": [
    "Create a project folder to store the results"
   ]
  },
  {
   "cell_type": "code",
   "execution_count": 2,
   "id": "33d2b6b2",
   "metadata": {},
   "outputs": [
    {
     "ename": "NameError",
     "evalue": "name 'PROJECT_PATH' is not defined",
     "output_type": "error",
     "traceback": [
      "\u001b[0;31m---------------------------------------------------------------------------\u001b[0m",
      "\u001b[0;31mNameError\u001b[0m                                 Traceback (most recent call last)",
      "Input \u001b[0;32mIn [2]\u001b[0m, in \u001b[0;36m<cell line: 2>\u001b[0;34m()\u001b[0m\n\u001b[1;32m      1\u001b[0m \u001b[38;5;66;03m# Create a project object and folder\u001b[39;00m\n\u001b[1;32m      2\u001b[0m project \u001b[38;5;241m=\u001b[39m ASReviewProject\u001b[38;5;241m.\u001b[39mcreate(\n\u001b[0;32m----> 3\u001b[0m     project_path\u001b[38;5;241m=\u001b[39m\u001b[43mPROJECT_PATH\u001b[49m,\n\u001b[1;32m      4\u001b[0m     project_id\u001b[38;5;241m=\u001b[39m\u001b[38;5;28;01mNone\u001b[39;00m,\n\u001b[1;32m      5\u001b[0m     project_mode\u001b[38;5;241m=\u001b[39m\u001b[38;5;124m\"\u001b[39m\u001b[38;5;124msimulate\u001b[39m\u001b[38;5;124m\"\u001b[39m,\n\u001b[1;32m      6\u001b[0m     project_name\u001b[38;5;241m=\u001b[39m\u001b[38;5;28;01mNone\u001b[39;00m,\n\u001b[1;32m      7\u001b[0m     project_description\u001b[38;5;241m=\u001b[39m\u001b[38;5;28;01mNone\u001b[39;00m,\n\u001b[1;32m      8\u001b[0m     project_authors\u001b[38;5;241m=\u001b[39m\u001b[38;5;28;01mNone\u001b[39;00m\n\u001b[1;32m      9\u001b[0m )\n",
      "\u001b[0;31mNameError\u001b[0m: name 'PROJECT_PATH' is not defined"
     ]
    }
   ],
   "source": [
    "# Create a project object and folder\n",
    "project = ASReviewProject.create(\n",
    "    project_path=PROJECT_PATH,\n",
    "    project_id=None,\n",
    "    project_mode=\"simulate\",\n",
    "    project_name=None,\n",
    "    project_description=None,\n",
    "    project_authors=None\n",
    ")"
   ]
  },
  {
   "cell_type": "markdown",
   "id": "656ddec4",
   "metadata": {},
   "source": [
    "Add a dataset to the project. "
   ]
  },
  {
   "cell_type": "code",
   "execution_count": null,
   "id": "425a0976",
   "metadata": {},
   "outputs": [],
   "source": [
    "project.add_dataset(DATA_FILE)"
   ]
  },
  {
   "cell_type": "markdown",
   "id": "d0c52295",
   "metadata": {},
   "source": [
    "Setup the models."
   ]
  },
  {
   "cell_type": "code",
   "execution_count": 4,
   "id": "5220ee4c",
   "metadata": {},
   "outputs": [],
   "source": [
    "# Select models to use\n",
    "train_model = NaiveBayesClassifier()\n",
    "query_model = MaxQuery()\n",
    "balance_model = SimpleBalance()\n",
    "feature_model = Tfidf()"
   ]
  },
  {
   "cell_type": "markdown",
   "id": "0bfe0c74",
   "metadata": {},
   "source": [
    "Run the simulation with the `ReviewSimulate` class. "
   ]
  },
  {
   "cell_type": "code",
   "execution_count": null,
   "id": "e6f9b3fe",
   "metadata": {},
   "outputs": [],
   "source": [
    "# Initialize the simulation reviewer\n",
    "reviewer = ReviewSimulate(\n",
    "    as_data=            ASReviewData.from_file(project.config['dataset_path']),\n",
    "    model=              train_model,\n",
    "    query_model=        query_model,\n",
    "    balance_model=      balance_model,\n",
    "    feature_model=      feature_model,\n",
    "    n_instances=        10,\n",
    "    state_file=         project,\n",
    "    n_prior_included=   1,\n",
    "    n_prior_excluded=   1,\n",
    ")\n",
    "\n",
    "# Start the review process\n",
    "project.update_review(status=\"review\")\n",
    "try:\n",
    "    reviewer.review()\n",
    "    project.mark_review_finished()\n",
    "except Exception as err:\n",
    "    project.update_review(status=\"error\")\n",
    "    raise err"
   ]
  },
  {
   "cell_type": "markdown",
   "id": "ea5106b6",
   "metadata": {},
   "source": [
    "Export the project to a location of choice."
   ]
  },
  {
   "cell_type": "code",
   "execution_count": null,
   "id": "c24b9a48",
   "metadata": {},
   "outputs": [],
   "source": [
    "# Finish and export the project\n",
    "project.export(EXPORT_PATH)"
   ]
  }
 ],
 "metadata": {
  "kernelspec": {
   "display_name": "Python 3 (ipykernel)",
   "language": "python",
   "name": "python3"
  },
  "language_info": {
   "codemirror_mode": {
    "name": "ipython",
    "version": 3
   },
   "file_extension": ".py",
   "mimetype": "text/x-python",
   "name": "python",
   "nbconvert_exporter": "python",
   "pygments_lexer": "ipython3",
   "version": "3.9.7"
  }
 },
 "nbformat": 4,
 "nbformat_minor": 5
}
