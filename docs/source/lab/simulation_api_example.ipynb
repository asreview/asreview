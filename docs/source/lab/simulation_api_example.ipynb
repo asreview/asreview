{
 "cells": [
  {
   "cell_type": "markdown",
   "id": "be79a9d5",
   "metadata": {},
   "source": [
    "# Simulate with Python API\n",
    "\n",
    "For more control over the workings of the ASReview software, the ASReview Python API can be used. For example, it is possible to use custom models or implement different sampling strategies. This example shows how to simulate a review with the ASReview API and store the results in an ASReview project file."
   ]
  },
  {
   "cell_type": "code",
   "execution_count": 2,
   "id": "5ea4a81e",
   "metadata": {},
   "outputs": [],
   "source": [
    "from pathlib import Path\n",
    "\n",
    "import asreview as asr\n",
    "from synergy_dataset import Dataset"
   ]
  },
  {
   "cell_type": "markdown",
   "id": "656ddec4",
   "metadata": {},
   "source": [
    "In this example, we use a dataset from the SYNERGY collection via the `synergy-dataset` package."
   ]
  },
  {
   "cell_type": "code",
   "execution_count": 6,
   "id": "b45e456e",
   "metadata": {},
   "outputs": [
    {
     "data": {
      "text/html": [
       "<div>\n",
       "<style scoped>\n",
       "    .dataframe tbody tr th:only-of-type {\n",
       "        vertical-align: middle;\n",
       "    }\n",
       "\n",
       "    .dataframe tbody tr th {\n",
       "        vertical-align: top;\n",
       "    }\n",
       "\n",
       "    .dataframe thead th {\n",
       "        text-align: right;\n",
       "    }\n",
       "</style>\n",
       "<table border=\"1\" class=\"dataframe\">\n",
       "  <thead>\n",
       "    <tr style=\"text-align: right;\">\n",
       "      <th></th>\n",
       "      <th>doi</th>\n",
       "      <th>title</th>\n",
       "      <th>abstract</th>\n",
       "      <th>label_included</th>\n",
       "    </tr>\n",
       "    <tr>\n",
       "      <th>openalex_id</th>\n",
       "      <th></th>\n",
       "      <th></th>\n",
       "      <th></th>\n",
       "      <th></th>\n",
       "    </tr>\n",
       "  </thead>\n",
       "  <tbody>\n",
       "    <tr>\n",
       "      <th>https://openalex.org/W2131536587</th>\n",
       "      <td>https://doi.org/10.1109/indcon.2010.5712716</td>\n",
       "      <td>Computer vision based offset error computation...</td>\n",
       "      <td>The use of computer vision based approach has ...</td>\n",
       "      <td>0</td>\n",
       "    </tr>\n",
       "    <tr>\n",
       "      <th>https://openalex.org/W2557025555</th>\n",
       "      <td>https://doi.org/10.1109/induscon.2010.5740045</td>\n",
       "      <td>Design and development of a software for fault...</td>\n",
       "      <td>This paper presents an on-line fault diagnosis...</td>\n",
       "      <td>0</td>\n",
       "    </tr>\n",
       "    <tr>\n",
       "      <th>https://openalex.org/W2143148279</th>\n",
       "      <td>https://doi.org/10.1109/tpwrd.2005.848672</td>\n",
       "      <td>Analytical Approach to Internal Fault Simulati...</td>\n",
       "      <td>A new method for simulating faulted transforme...</td>\n",
       "      <td>0</td>\n",
       "    </tr>\n",
       "    <tr>\n",
       "      <th>https://openalex.org/W2111816457</th>\n",
       "      <td>https://doi.org/10.1109/icelmach.2008.4799852</td>\n",
       "      <td>Nonlinear equivalent circuit model of a tracti...</td>\n",
       "      <td>The paper presents the development of an equiv...</td>\n",
       "      <td>0</td>\n",
       "    </tr>\n",
       "    <tr>\n",
       "      <th>https://openalex.org/W3142547111</th>\n",
       "      <td>https://doi.org/10.1109/ipdps.2006.1639408</td>\n",
       "      <td>Fault tolerance with real-time Java</td>\n",
       "      <td>After having drawn up a state of the art on th...</td>\n",
       "      <td>0</td>\n",
       "    </tr>\n",
       "  </tbody>\n",
       "</table>\n",
       "</div>"
      ],
      "text/plain": [
       "                                                                            doi  \\\n",
       "openalex_id                                                                       \n",
       "https://openalex.org/W2131536587    https://doi.org/10.1109/indcon.2010.5712716   \n",
       "https://openalex.org/W2557025555  https://doi.org/10.1109/induscon.2010.5740045   \n",
       "https://openalex.org/W2143148279      https://doi.org/10.1109/tpwrd.2005.848672   \n",
       "https://openalex.org/W2111816457  https://doi.org/10.1109/icelmach.2008.4799852   \n",
       "https://openalex.org/W3142547111     https://doi.org/10.1109/ipdps.2006.1639408   \n",
       "\n",
       "                                                                              title  \\\n",
       "openalex_id                                                                           \n",
       "https://openalex.org/W2131536587  Computer vision based offset error computation...   \n",
       "https://openalex.org/W2557025555  Design and development of a software for fault...   \n",
       "https://openalex.org/W2143148279  Analytical Approach to Internal Fault Simulati...   \n",
       "https://openalex.org/W2111816457  Nonlinear equivalent circuit model of a tracti...   \n",
       "https://openalex.org/W3142547111                Fault tolerance with real-time Java   \n",
       "\n",
       "                                                                           abstract  \\\n",
       "openalex_id                                                                           \n",
       "https://openalex.org/W2131536587  The use of computer vision based approach has ...   \n",
       "https://openalex.org/W2557025555  This paper presents an on-line fault diagnosis...   \n",
       "https://openalex.org/W2143148279  A new method for simulating faulted transforme...   \n",
       "https://openalex.org/W2111816457  The paper presents the development of an equiv...   \n",
       "https://openalex.org/W3142547111  After having drawn up a state of the art on th...   \n",
       "\n",
       "                                  label_included  \n",
       "openalex_id                                       \n",
       "https://openalex.org/W2131536587               0  \n",
       "https://openalex.org/W2557025555               0  \n",
       "https://openalex.org/W2143148279               0  \n",
       "https://openalex.org/W2111816457               0  \n",
       "https://openalex.org/W3142547111               0  "
      ]
     },
     "execution_count": 6,
     "metadata": {},
     "output_type": "execute_result"
    }
   ],
   "source": [
    "d = Dataset(\"Hall_2012\").to_frame()\n",
    "d.head()"
   ]
  },
  {
   "cell_type": "markdown",
   "id": "d0c52295",
   "metadata": {},
   "source": [
    "Import the models."
   ]
  },
  {
   "cell_type": "code",
   "execution_count": 10,
   "id": "5220ee4c",
   "metadata": {},
   "outputs": [],
   "source": [
    "from asreview.models.balancers import Balanced\n",
    "from asreview.models.classifiers import SVM\n",
    "from asreview.models.feature_extractors import Tfidf\n",
    "from asreview.models.queriers import Max, TopDown\n",
    "from asreview.models.stoppers import IsFittable"
   ]
  },
  {
   "cell_type": "code",
   "execution_count": null,
   "id": "8d71a8f8",
   "metadata": {},
   "outputs": [
    {
     "name": "stderr",
     "output_type": "stream",
     "text": [
      "Relevant records found:   0%|          | 0/104 [00:00<?, ?it/s]/Users/Bruin056/Documents/GitHub/asreview/asreview/simulation/simulate.py:250: FutureWarning: Series.__getitem__ treating keys as positions is deprecated. In a future version, integer keys will always be treated as labels (consistent with DataFrame behavior). To access a value by position, use `ser.iloc[pos]`\n",
      "  \"label\": pd.Series(self.labels)[record_ids],\n",
      "Relevant records found:   1%|          | 1/104 [00:00<00:17,  5.79it/s]\n",
      "Records labeled       :   1%|          | 69/8793 [00:00<00:21, 402.65it/s]"
     ]
    },
    {
     "name": "stdout",
     "output_type": "stream",
     "text": [
      "\n",
      "Loss: 0.008\n",
      "NDCG: 0.163\n"
     ]
    },
    {
     "name": "stderr",
     "output_type": "stream",
     "text": [
      "\n"
     ]
    }
   ],
   "source": [
    "learners = [\n",
    "    asr.ActiveLearningCycle(querier=TopDown(), stopper=IsFittable()),\n",
    "    asr.ActiveLearningCycle(\n",
    "        querier=Max(),\n",
    "        classifier=SVM(C=3),\n",
    "        balancer=Balanced(ratio=5),\n",
    "        feature_extractor=Tfidf()\n",
    "    ),\n",
    "]\n",
    "\n",
    "sim = asr.Simulate(\n",
    "    d,\n",
    "    d[\"label_included\"],\n",
    "    learners,\n",
    ")\n",
    "sim.review()"
   ]
  },
  {
   "cell_type": "code",
   "execution_count": null,
   "id": "f5f443a5",
   "metadata": {},
   "outputs": [],
   "source": []
  }
 ],
 "metadata": {
  "kernelspec": {
   "display_name": "asreview-dev",
   "language": "python",
   "name": "python3"
  },
  "language_info": {
   "codemirror_mode": {
    "name": "ipython",
    "version": 3
   },
   "file_extension": ".py",
   "mimetype": "text/x-python",
   "name": "python",
   "nbconvert_exporter": "python",
   "pygments_lexer": "ipython3",
   "version": "3.12.0"
  }
 },
 "nbformat": 4,
 "nbformat_minor": 5
}
