{
 "cells": [
  {
   "cell_type": "markdown",
   "metadata": {},
   "source": [
    "# Access data from ASReview file\n",
    "\n",
    "<div class=\"alert alert-warning\">\n",
    "\n",
    "The API is still under development and can change at any time without warning. \n",
    "\n",
    "</div>\n",
    "\n",
    "Data generated using ASReview LAB is stored in an ASReview project file. Via the ASReview Python API, there are two ways to access the data in the ASReview (extension `.asreview`) file: Via the [project-API](reference.rst#asreviewproject) and the [state-API](reference.rst#module-asreview.state). The project API is for retrieving general project settings, the imported dataset, the feature matrix, etc. The state API retrieves data related directly to the reviewing process, such as the labels, the time of labeling, and the classifier used. \n",
    "\n",
    "\n"
   ]
  },
  {
   "cell_type": "markdown",
   "metadata": {},
   "source": [
    "## Example Data\n",
    "To illustrate the ASReview Python API, the benchmark dataset `van_de_Schoot_2017` is used.  The project file `example.asreview` can be obtained by running ```asreview simulate benchmark:van_de_Schoot_2017 -s example.asreview```. \n",
    "\n",
    "The ASReview Python API can be used for project files obtained via the Oracle, Exploration, and Simulation mode. "
   ]
  },
  {
   "cell_type": "markdown",
   "metadata": {},
   "source": [
    "## Python Imports"
   ]
  },
  {
   "cell_type": "code",
   "execution_count": 1,
   "metadata": {},
   "outputs": [],
   "source": [
    "import shutil\n",
    "from pathlib import Path\n",
    "\n",
    "import pandas as pd\n",
    "from asreview import open_state\n",
    "from asreview import ASReviewProject\n",
    "from asreview import ASReviewData"
   ]
  },
  {
   "cell_type": "markdown",
   "metadata": {},
   "source": [
    "## Project API\n",
    "The ASReview project file is a zipped folder. To unzip the folder and store its contents in a temporary directory, use the following code: "
   ]
  },
  {
   "cell_type": "code",
   "execution_count": 2,
   "metadata": {},
   "outputs": [],
   "source": [
    "project_path = Path(\"tmp_data\")\n",
    "project_path.mkdir()\n",
    "project = ASReviewProject.load('example.asreview', project_path)"
   ]
  },
  {
   "cell_type": "markdown",
   "metadata": {},
   "source": [
    "The returned `project` instance is of type [ASReviewProject](generated/asreview.ASReviewProject.rst).\n",
    "\n",
    "To inspect the project details, use the following code:"
   ]
  },
  {
   "cell_type": "code",
   "execution_count": 3,
   "metadata": {},
   "outputs": [
    {
     "data": {
      "text/plain": [
       "{'version': '1.0rc1+46.gb310417.dirty',\n",
       " 'id': 'example',\n",
       " 'mode': 'simulate',\n",
       " 'name': 'example',\n",
       " 'description': 'Simulation created via ASReview via command line interface',\n",
       " 'authors': None,\n",
       " 'created_at_unix': 1654172382,\n",
       " 'datetimeCreated': '2022-06-02 14:19:42.822517',\n",
       " 'reviews': [{'id': '23a4a370cba1433db3842b20a504ec82',\n",
       "   'start_time': '2022-06-02 14:19:43.214958',\n",
       "   'status': 'finished',\n",
       "   'end_time': '2022-06-02 14:19:51.587138'}],\n",
       " 'feature_matrices': [{'id': 'tfidf', 'filename': 'tfidf_feature_matrix.npz'}],\n",
       " 'dataset_path': 'van_de_Schoot_2017.csv'}"
      ]
     },
     "execution_count": 3,
     "metadata": {},
     "output_type": "execute_result"
    }
   ],
   "source": [
    "project.config"
   ]
  },
  {
   "cell_type": "markdown",
   "metadata": {},
   "source": [
    "The imported dataset is located at `/tmp_data/{project_name}/data/{dataset_filename}`, and can be inspected using the following code: "
   ]
  },
  {
   "cell_type": "code",
   "execution_count": 4,
   "metadata": {},
   "outputs": [
    {
     "data": {
      "text/html": [
       "<div>\n",
       "<style scoped>\n",
       "    .dataframe tbody tr th:only-of-type {\n",
       "        vertical-align: middle;\n",
       "    }\n",
       "\n",
       "    .dataframe tbody tr th {\n",
       "        vertical-align: top;\n",
       "    }\n",
       "\n",
       "    .dataframe thead th {\n",
       "        text-align: right;\n",
       "    }\n",
       "</style>\n",
       "<table border=\"1\" class=\"dataframe\">\n",
       "  <thead>\n",
       "    <tr style=\"text-align: right;\">\n",
       "      <th></th>\n",
       "      <th>title</th>\n",
       "      <th>abstract</th>\n",
       "      <th>keywords</th>\n",
       "      <th>authors</th>\n",
       "      <th>year</th>\n",
       "      <th>date</th>\n",
       "      <th>doi</th>\n",
       "      <th>label_included</th>\n",
       "      <th>label_abstract_screening</th>\n",
       "      <th>duplicate_record_id</th>\n",
       "    </tr>\n",
       "    <tr>\n",
       "      <th>record_id</th>\n",
       "      <th></th>\n",
       "      <th></th>\n",
       "      <th></th>\n",
       "      <th></th>\n",
       "      <th></th>\n",
       "      <th></th>\n",
       "      <th></th>\n",
       "      <th></th>\n",
       "      <th></th>\n",
       "      <th></th>\n",
       "    </tr>\n",
       "  </thead>\n",
       "  <tbody>\n",
       "    <tr>\n",
       "      <th>0</th>\n",
       "      <td>Manual for ASEBA School-Age Forms &amp; Profiles</td>\n",
       "      <td></td>\n",
       "      <td></td>\n",
       "      <td>Achenbach, T. M., Rescorla, L. A.</td>\n",
       "      <td>2001.0</td>\n",
       "      <td>2001</td>\n",
       "      <td>NaN</td>\n",
       "      <td>0</td>\n",
       "      <td>0</td>\n",
       "      <td>NaN</td>\n",
       "    </tr>\n",
       "    <tr>\n",
       "      <th>1</th>\n",
       "      <td>Queensland Trauma Registry: A summary of paedi...</td>\n",
       "      <td></td>\n",
       "      <td></td>\n",
       "      <td>Dallow, N., Lang, J., Bellamy, N.</td>\n",
       "      <td>2007.0</td>\n",
       "      <td>2007</td>\n",
       "      <td>NaN</td>\n",
       "      <td>0</td>\n",
       "      <td>0</td>\n",
       "      <td>NaN</td>\n",
       "    </tr>\n",
       "    <tr>\n",
       "      <th>2</th>\n",
       "      <td>Posttraumatic Stress Disorder: Scientific and ...</td>\n",
       "      <td>This comprehensive overview of research and cl...</td>\n",
       "      <td></td>\n",
       "      <td>Ford, J. D., Grasso, D. J., Elhai, J. D., Cour...</td>\n",
       "      <td>2015.0</td>\n",
       "      <td>NaN</td>\n",
       "      <td>NaN</td>\n",
       "      <td>0</td>\n",
       "      <td>0</td>\n",
       "      <td>NaN</td>\n",
       "    </tr>\n",
       "    <tr>\n",
       "      <th>3</th>\n",
       "      <td>SOCIAL CLASS AND MENTAL ILLNESS</td>\n",
       "      <td></td>\n",
       "      <td></td>\n",
       "      <td>Hollingshead, A. B., Redlich, F. C.</td>\n",
       "      <td>1958.0</td>\n",
       "      <td>NaN</td>\n",
       "      <td>NaN</td>\n",
       "      <td>0</td>\n",
       "      <td>0</td>\n",
       "      <td>NaN</td>\n",
       "    </tr>\n",
       "    <tr>\n",
       "      <th>4</th>\n",
       "      <td>Computerised test generation for cross-nationa...</td>\n",
       "      <td>“‘Computerised Test Generation for Cross-Natio...</td>\n",
       "      <td></td>\n",
       "      <td>Irvine, S. H.</td>\n",
       "      <td>2014.0</td>\n",
       "      <td>NaN</td>\n",
       "      <td>NaN</td>\n",
       "      <td>0</td>\n",
       "      <td>0</td>\n",
       "      <td>NaN</td>\n",
       "    </tr>\n",
       "  </tbody>\n",
       "</table>\n",
       "</div>"
      ],
      "text/plain": [
       "                                                       title  \\\n",
       "record_id                                                      \n",
       "0               Manual for ASEBA School-Age Forms & Profiles   \n",
       "1          Queensland Trauma Registry: A summary of paedi...   \n",
       "2          Posttraumatic Stress Disorder: Scientific and ...   \n",
       "3                            SOCIAL CLASS AND MENTAL ILLNESS   \n",
       "4          Computerised test generation for cross-nationa...   \n",
       "\n",
       "                                                    abstract keywords  \\\n",
       "record_id                                                               \n",
       "0                                                                       \n",
       "1                                                                       \n",
       "2          This comprehensive overview of research and cl...            \n",
       "3                                                                       \n",
       "4          “‘Computerised Test Generation for Cross-Natio...            \n",
       "\n",
       "                                                     authors    year  date  \\\n",
       "record_id                                                                    \n",
       "0                          Achenbach, T. M., Rescorla, L. A.  2001.0  2001   \n",
       "1                          Dallow, N., Lang, J., Bellamy, N.  2007.0  2007   \n",
       "2          Ford, J. D., Grasso, D. J., Elhai, J. D., Cour...  2015.0   NaN   \n",
       "3                        Hollingshead, A. B., Redlich, F. C.  1958.0   NaN   \n",
       "4                                              Irvine, S. H.  2014.0   NaN   \n",
       "\n",
       "           doi label_included  label_abstract_screening  duplicate_record_id  \n",
       "record_id                                                                     \n",
       "0          NaN              0                         0                  NaN  \n",
       "1          NaN              0                         0                  NaN  \n",
       "2          NaN              0                         0                  NaN  \n",
       "3          NaN              0                         0                  NaN  \n",
       "4          NaN              0                         0                  NaN  "
      ]
     },
     "execution_count": 4,
     "metadata": {},
     "output_type": "execute_result"
    }
   ],
   "source": [
    "dataset_fp = Path(project_path, project.config['id'], \"data\", project.config['dataset_path'])\n",
    "dataset = ASReviewData.from_file(dataset_fp)\n",
    "dataset.to_dataframe().head()"
   ]
  },
  {
   "cell_type": "markdown",
   "metadata": {},
   "source": [
    "To obtain the content of the feature matrix, for example, the first row of the matrix, use the following code (note the matrix is in a sparse matrix format):"
   ]
  },
  {
   "cell_type": "code",
   "execution_count": 5,
   "metadata": {},
   "outputs": [
    {
     "name": "stdout",
     "output_type": "stream",
     "text": [
      "  (0, 20452)\t0.35937211648312967\n",
      "  (0, 18297)\t0.26158369118434677\n",
      "  (0, 13842)\t0.3248271421716685\n",
      "  (0, 9739)\t0.38355660008860293\n",
      "  (0, 3231)\t0.7059309068495663\n",
      "  (0, 2384)\t0.22684547910949254\n"
     ]
    }
   ],
   "source": [
    "feature_extraction_id = project.feature_matrices[0]['id']\n",
    "feature_matrix = project.get_feature_matrix(feature_extraction_id)\n",
    "print(feature_matrix[0])"
   ]
  },
  {
   "cell_type": "markdown",
   "metadata": {},
   "source": [
    "## State API\n",
    "\n",
    "The data stored during the review process can be accessed as a pandas DataFrame using the following code:"
   ]
  },
  {
   "cell_type": "code",
   "execution_count": 6,
   "metadata": {},
   "outputs": [],
   "source": [
    "with open_state('example.asreview') as state:\n",
    "    df = state.get_dataset()"
   ]
  },
  {
   "cell_type": "markdown",
   "metadata": {},
   "source": [
    "The returned `state` instance is of type [SQLiteState](generated/asreview.state.SQLiteState.rst)."
   ]
  },
  {
   "cell_type": "code",
   "execution_count": 7,
   "metadata": {},
   "outputs": [
    {
     "data": {
      "text/html": [
       "<div>\n",
       "<style scoped>\n",
       "    .dataframe tbody tr th:only-of-type {\n",
       "        vertical-align: middle;\n",
       "    }\n",
       "\n",
       "    .dataframe tbody tr th {\n",
       "        vertical-align: top;\n",
       "    }\n",
       "\n",
       "    .dataframe thead th {\n",
       "        text-align: right;\n",
       "    }\n",
       "</style>\n",
       "<table border=\"1\" class=\"dataframe\">\n",
       "  <thead>\n",
       "    <tr style=\"text-align: right;\">\n",
       "      <th></th>\n",
       "      <th>record_id</th>\n",
       "      <th>label</th>\n",
       "      <th>classifier</th>\n",
       "      <th>query_strategy</th>\n",
       "      <th>balance_strategy</th>\n",
       "      <th>feature_extraction</th>\n",
       "      <th>training_set</th>\n",
       "      <th>labeling_time</th>\n",
       "      <th>notes</th>\n",
       "    </tr>\n",
       "  </thead>\n",
       "  <tbody>\n",
       "    <tr>\n",
       "      <th>0</th>\n",
       "      <td>2455</td>\n",
       "      <td>1</td>\n",
       "      <td>None</td>\n",
       "      <td>prior</td>\n",
       "      <td>None</td>\n",
       "      <td>None</td>\n",
       "      <td>-1</td>\n",
       "      <td>2022-06-02 14:19:45.069368</td>\n",
       "      <td>None</td>\n",
       "    </tr>\n",
       "    <tr>\n",
       "      <th>1</th>\n",
       "      <td>2677</td>\n",
       "      <td>0</td>\n",
       "      <td>None</td>\n",
       "      <td>prior</td>\n",
       "      <td>None</td>\n",
       "      <td>None</td>\n",
       "      <td>-1</td>\n",
       "      <td>2022-06-02 14:19:45.069368</td>\n",
       "      <td>None</td>\n",
       "    </tr>\n",
       "    <tr>\n",
       "      <th>2</th>\n",
       "      <td>2859</td>\n",
       "      <td>0</td>\n",
       "      <td>nb</td>\n",
       "      <td>max</td>\n",
       "      <td>double</td>\n",
       "      <td>tfidf</td>\n",
       "      <td>2</td>\n",
       "      <td>2022-06-02 14:19:45.163866</td>\n",
       "      <td>None</td>\n",
       "    </tr>\n",
       "    <tr>\n",
       "      <th>3</th>\n",
       "      <td>3406</td>\n",
       "      <td>0</td>\n",
       "      <td>nb</td>\n",
       "      <td>max</td>\n",
       "      <td>double</td>\n",
       "      <td>tfidf</td>\n",
       "      <td>3</td>\n",
       "      <td>2022-06-02 14:19:45.179505</td>\n",
       "      <td>None</td>\n",
       "    </tr>\n",
       "    <tr>\n",
       "      <th>4</th>\n",
       "      <td>1366</td>\n",
       "      <td>0</td>\n",
       "      <td>nb</td>\n",
       "      <td>max</td>\n",
       "      <td>double</td>\n",
       "      <td>tfidf</td>\n",
       "      <td>4</td>\n",
       "      <td>2022-06-02 14:19:45.195130</td>\n",
       "      <td>None</td>\n",
       "    </tr>\n",
       "  </tbody>\n",
       "</table>\n",
       "</div>"
      ],
      "text/plain": [
       "   record_id  label classifier query_strategy balance_strategy  \\\n",
       "0       2455      1       None          prior             None   \n",
       "1       2677      0       None          prior             None   \n",
       "2       2859      0         nb            max           double   \n",
       "3       3406      0         nb            max           double   \n",
       "4       1366      0         nb            max           double   \n",
       "\n",
       "  feature_extraction  training_set               labeling_time notes  \n",
       "0               None            -1  2022-06-02 14:19:45.069368  None  \n",
       "1               None            -1  2022-06-02 14:19:45.069368  None  \n",
       "2              tfidf             2  2022-06-02 14:19:45.163866  None  \n",
       "3              tfidf             3  2022-06-02 14:19:45.179505  None  \n",
       "4              tfidf             4  2022-06-02 14:19:45.195130  None  "
      ]
     },
     "execution_count": 7,
     "metadata": {},
     "output_type": "execute_result"
    }
   ],
   "source": [
    "df.to_csv('example_state.csv', index=False)\n",
    "df.head()"
   ]
  },
  {
   "cell_type": "markdown",
   "metadata": {},
   "source": [
    "There are also multiple functions to get one specific type of data directly. For example, to obtain the labeling times and plot them in a graph, use the following code: "
   ]
  },
  {
   "cell_type": "code",
   "execution_count": 8,
   "metadata": {},
   "outputs": [
    {
     "data": {
      "text/plain": [
       "<AxesSubplot:title={'center':'Time of labeling'}>"
      ]
     },
     "execution_count": 8,
     "metadata": {},
     "output_type": "execute_result"
    },
    {
     "data": {
      "image/png": "[encoded data removed]",
      "text/plain": [
       "<Figure size 432x288 with 1 Axes>"
      ]
     },
     "metadata": {
      "needs_background": "light"
     },
     "output_type": "display_data"
    }
   ],
   "source": [
    "with open_state('example.asreview') as state:\n",
    "    labeling_times = state.get_labeling_times()\n",
    "pd.to_datetime(labeling_times).plot(title=\"Time of labeling\")"
   ]
  },
  {
   "cell_type": "markdown",
   "metadata": {},
   "source": [
    "By default, the records that are part of the prior knowledge are included in the results. To obtain the labels use the following code:"
   ]
  },
  {
   "cell_type": "code",
   "execution_count": 9,
   "metadata": {},
   "outputs": [
    {
     "data": {
      "text/plain": [
       "0      0\n",
       "1      0\n",
       "2      0\n",
       "3      0\n",
       "4      0\n",
       "      ..\n",
       "542    0\n",
       "543    0\n",
       "544    0\n",
       "545    0\n",
       "546    1\n",
       "Name: label, Length: 547, dtype: int64"
      ]
     },
     "execution_count": 9,
     "metadata": {},
     "output_type": "execute_result"
    }
   ],
   "source": [
    "with open_state('example.asreview') as state:\n",
    "    labels = state.get_labels(priors=False)\n",
    "labels"
   ]
  },
  {
   "cell_type": "markdown",
   "metadata": {},
   "source": [
    "To obtain the data corresponding to a specific record identifier, use the following code:"
   ]
  },
  {
   "cell_type": "code",
   "execution_count": 10,
   "metadata": {},
   "outputs": [
    {
     "data": {
      "text/html": [
       "<div>\n",
       "<style scoped>\n",
       "    .dataframe tbody tr th:only-of-type {\n",
       "        vertical-align: middle;\n",
       "    }\n",
       "\n",
       "    .dataframe tbody tr th {\n",
       "        vertical-align: top;\n",
       "    }\n",
       "\n",
       "    .dataframe thead th {\n",
       "        text-align: right;\n",
       "    }\n",
       "</style>\n",
       "<table border=\"1\" class=\"dataframe\">\n",
       "  <thead>\n",
       "    <tr style=\"text-align: right;\">\n",
       "      <th></th>\n",
       "      <th>record_id</th>\n",
       "      <th>label</th>\n",
       "      <th>classifier</th>\n",
       "      <th>query_strategy</th>\n",
       "      <th>balance_strategy</th>\n",
       "      <th>feature_extraction</th>\n",
       "      <th>training_set</th>\n",
       "      <th>labeling_time</th>\n",
       "      <th>notes</th>\n",
       "    </tr>\n",
       "  </thead>\n",
       "  <tbody>\n",
       "    <tr>\n",
       "      <th>0</th>\n",
       "      <td>5176</td>\n",
       "      <td>0</td>\n",
       "      <td>nb</td>\n",
       "      <td>max</td>\n",
       "      <td>double</td>\n",
       "      <td>tfidf</td>\n",
       "      <td>5</td>\n",
       "      <td>2022-06-02 14:19:45.195130</td>\n",
       "      <td>None</td>\n",
       "    </tr>\n",
       "  </tbody>\n",
       "</table>\n",
       "</div>"
      ],
      "text/plain": [
       "   record_id  label classifier query_strategy balance_strategy  \\\n",
       "0       5176      0         nb            max           double   \n",
       "\n",
       "  feature_extraction  training_set               labeling_time notes  \n",
       "0              tfidf             5  2022-06-02 14:19:45.195130  None  "
      ]
     },
     "execution_count": 10,
     "metadata": {},
     "output_type": "execute_result"
    }
   ],
   "source": [
    "with open_state('example.asreview') as state:\n",
    "    record_data = state.get_data_by_record_id(5176)\n",
    "record_data"
   ]
  },
  {
   "cell_type": "markdown",
   "metadata": {},
   "source": [
    "## Cleanup\n",
    "The following code removes the temporary folder that was created:"
   ]
  },
  {
   "cell_type": "code",
   "execution_count": 11,
   "metadata": {},
   "outputs": [],
   "source": [
    "shutil.rmtree(project_path)"
   ]
  }
 ],
 "metadata": {
  "interpreter": {
   "hash": "51c5ab6a405a8adbadeb1e64c7a3d8f4abd98939018fbb611fe7ee8dd8c2d5a2"
  },
  "kernelspec": {
   "display_name": "Python 3 (ipykernel)",
   "language": "python",
   "name": "python3"
  },
  "language_info": {
   "codemirror_mode": {
    "name": "ipython",
    "version": 3
   },
   "file_extension": ".py",
   "mimetype": "text/x-python",
   "name": "python",
   "nbconvert_exporter": "python",
   "pygments_lexer": "ipython3",
   "version": "3.9.7"
  }
 },
 "nbformat": 4,
 "nbformat_minor": 2
}
