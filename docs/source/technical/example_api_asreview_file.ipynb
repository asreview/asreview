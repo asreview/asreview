{
 "cells": [
  {
   "cell_type": "markdown",
   "metadata": {},
   "source": [
    "# Access data from ASReview file\n",
    "\n",
    "<div class=\"alert alert-warning\">\n",
    "\n",
    "The API is still under development and can change at any time without warning. \n",
    "\n",
    "</div>\n",
    "\n",
    "Data generated using ASReview LAB is stored in an ASReview project file. Via the ASReview Python API, there are two ways to access the data in the ASReview (extension `.asreview`) file: Via the [asreview.Project](reference/asreview.rst#asreview.Project) API and the [asreview.SQLiteState](reference/asreview.rst#asreview.SQLiteState) API. The project API is for retrieving general project settings, the imported dataset, the feature matrix, etc. The state API retrieves data related directly to the reviewing process, such as the labels, the time of labeling, and the classifier used. \n",
    "\n",
    "The ASReview Python API can be used for project files obtained reviews and simulations.\n",
    "\n",
    "\n"
   ]
  },
  {
   "cell_type": "markdown",
   "metadata": {},
   "source": [
    "## Example Data\n",
    "To illustrate the ASReview Python API, the benchmark dataset `van_de_Schoot_2017` is used. The project file `example.asreview` can be obtained by running the following command:"
   ]
  },
  {
   "cell_type": "code",
   "execution_count": null,
   "metadata": {
    "vscode": {
     "languageId": "shellscript"
    }
   },
   "outputs": [],
   "source": [
    "%%bash\n",
    "\n",
    "asreview simulate synergy:van_de_Schoot_2018 -o example.asreview"
   ]
  },
  {
   "cell_type": "markdown",
   "metadata": {},
   "source": [
    "## Python imports\n",
    "\n",
    "Import the `asreview` module as `asr`."
   ]
  },
  {
   "cell_type": "code",
   "execution_count": 1,
   "metadata": {},
   "outputs": [],
   "source": [
    "from pathlib import Path\n",
    "\n",
    "import asreview as asr"
   ]
  },
  {
   "cell_type": "markdown",
   "metadata": {},
   "source": [
    "## Project API\n",
    "\n",
    "The ASReview project file is a zipped folder with the extension `.asreview`. This makes inspection of it's contents straightforward. The `asreview` Python package offers an API to open a project file directly as an [asreview.Project](reference/asreview.rst#asreview.Project). \n",
    "\n",
    "For this example, we will create a temporary folder to unpack the project to:"
   ]
  },
  {
   "cell_type": "code",
   "execution_count": 2,
   "metadata": {},
   "outputs": [],
   "source": [
    "from tempfile import TemporaryDirectory\n",
    "\n",
    "tmpdir = TemporaryDirectory()"
   ]
  },
  {
   "cell_type": "markdown",
   "metadata": {},
   "source": [
    "Open the project with the `load` classmethod of [asreview.Project](reference/asreview.rst#asreview.Project)."
   ]
  },
  {
   "cell_type": "code",
   "execution_count": 3,
   "metadata": {},
   "outputs": [],
   "source": [
    "project = asr.Project.load(\"example.asreview\", tmpdir.name)"
   ]
  },
  {
   "cell_type": "markdown",
   "metadata": {},
   "source": [
    "The following files can be found in the folder"
   ]
  },
  {
   "cell_type": "code",
   "execution_count": 4,
   "metadata": {},
   "outputs": [
    {
     "name": "stdout",
     "output_type": "stream",
     "text": [
      "example\n",
      "example/project.json\n",
      "example/data_store.db\n",
      "example/feature_matrices\n",
      "example/data\n",
      "example/reviews\n",
      "example/data/van_de_Schoot_2018.csv\n",
      "example/reviews/3b7b6c2b3d6f487ba19ffcc4ac8adef5\n",
      "example/reviews/3b7b6c2b3d6f487ba19ffcc4ac8adef5/results.db\n"
     ]
    }
   ],
   "source": [
    "tmpdir_path = Path(tmpdir.name)\n",
    "for path in tmpdir_path.rglob(\"*\"):\n",
    "    print(path.relative_to(tmpdir_path))"
   ]
  },
  {
   "cell_type": "markdown",
   "metadata": {},
   "source": [
    "\n",
    "To inspect the project details in `project.json`, use the following code:"
   ]
  },
  {
   "cell_type": "code",
   "execution_count": 5,
   "metadata": {},
   "outputs": [
    {
     "data": {
      "text/plain": [
       "{'version': '2.0b6.dev20+gf283ffd9.d20250505',\n",
       " 'id': 'example',\n",
       " 'mode': 'simulate',\n",
       " 'name': 'van_de_Schoot_2018',\n",
       " 'created_at_unix': 1746457760,\n",
       " 'reviews': [{'id': '3b7b6c2b3d6f487ba19ffcc4ac8adef5', 'status': 'finished'}],\n",
       " 'feature_matrices': [],\n",
       " 'tags': None,\n",
       " 'datasets': [{'id': 'van_de_Schoot_2018.csv',\n",
       "   'name': 'van_de_Schoot_2018.csv'}]}"
      ]
     },
     "execution_count": 5,
     "metadata": {},
     "output_type": "execute_result"
    }
   ],
   "source": [
    "project.config"
   ]
  },
  {
   "cell_type": "markdown",
   "metadata": {},
   "source": [
    "The imported dataset is located at `data/{dataset_filename}`, and can be inspected using the following code: "
   ]
  },
  {
   "cell_type": "code",
   "execution_count": 6,
   "metadata": {},
   "outputs": [
    {
     "name": "stdout",
     "output_type": "stream",
     "text": [
      "The dataset contains 4544 records.\n"
     ]
    }
   ],
   "source": [
    "datastore_fp = Path(tmpdir.name) / \"example\" / \"data_store.db\"\n",
    "\n",
    "dataset = asr.DataStore(datastore_fp)\n",
    "print(f\"The dataset contains {len(dataset)} records.\")"
   ]
  },
  {
   "cell_type": "code",
   "execution_count": 7,
   "metadata": {},
   "outputs": [
    {
     "data": {
      "text/html": [
       "<div>\n",
       "<style scoped>\n",
       "    .dataframe tbody tr th:only-of-type {\n",
       "        vertical-align: middle;\n",
       "    }\n",
       "\n",
       "    .dataframe tbody tr th {\n",
       "        vertical-align: top;\n",
       "    }\n",
       "\n",
       "    .dataframe thead th {\n",
       "        text-align: right;\n",
       "    }\n",
       "</style>\n",
       "<table border=\"1\" class=\"dataframe\">\n",
       "  <thead>\n",
       "    <tr style=\"text-align: right;\">\n",
       "      <th></th>\n",
       "      <th>dataset_row</th>\n",
       "      <th>dataset_id</th>\n",
       "      <th>duplicate_of</th>\n",
       "      <th>title</th>\n",
       "      <th>abstract</th>\n",
       "      <th>authors</th>\n",
       "      <th>keywords</th>\n",
       "      <th>year</th>\n",
       "      <th>doi</th>\n",
       "      <th>url</th>\n",
       "      <th>included</th>\n",
       "      <th>record_id</th>\n",
       "    </tr>\n",
       "  </thead>\n",
       "  <tbody>\n",
       "    <tr>\n",
       "      <th>0</th>\n",
       "      <td>0</td>\n",
       "      <td>van_de_Schoot_2018.csv</td>\n",
       "      <td>None</td>\n",
       "      <td>Annual Research Review: Resilience and mental ...</td>\n",
       "      <td>Researchers focused on mental health of confli...</td>\n",
       "      <td>[]</td>\n",
       "      <td>[]</td>\n",
       "      <td>None</td>\n",
       "      <td>https://doi.org/10.1111/jcpp.12053</td>\n",
       "      <td>None</td>\n",
       "      <td>0</td>\n",
       "      <td>0</td>\n",
       "    </tr>\n",
       "    <tr>\n",
       "      <th>1</th>\n",
       "      <td>1</td>\n",
       "      <td>van_de_Schoot_2018.csv</td>\n",
       "      <td>None</td>\n",
       "      <td>Profiling the Trauma Related Symptoms of Bosni...</td>\n",
       "      <td>The objective of this study was to profile tra...</td>\n",
       "      <td>[]</td>\n",
       "      <td>[]</td>\n",
       "      <td>None</td>\n",
       "      <td>https://doi.org/10.1097/00005053-200007000-00004</td>\n",
       "      <td>None</td>\n",
       "      <td>0</td>\n",
       "      <td>1</td>\n",
       "    </tr>\n",
       "    <tr>\n",
       "      <th>2</th>\n",
       "      <td>2</td>\n",
       "      <td>van_de_Schoot_2018.csv</td>\n",
       "      <td>None</td>\n",
       "      <td>Acute panicogenic, anxiogenic and dissociative...</td>\n",
       "      <td>Increased anxiety and panic to inhalation of c...</td>\n",
       "      <td>[]</td>\n",
       "      <td>[]</td>\n",
       "      <td>None</td>\n",
       "      <td>https://doi.org/10.1016/j.jpsychires.2011.01.009</td>\n",
       "      <td>None</td>\n",
       "      <td>0</td>\n",
       "      <td>2</td>\n",
       "    </tr>\n",
       "    <tr>\n",
       "      <th>3</th>\n",
       "      <td>3</td>\n",
       "      <td>van_de_Schoot_2018.csv</td>\n",
       "      <td>None</td>\n",
       "      <td>A Pooled Analysis of Gender and Trauma-Type Ef...</td>\n",
       "      <td>To examine effects of gender and trauma type o...</td>\n",
       "      <td>[]</td>\n",
       "      <td>[]</td>\n",
       "      <td>None</td>\n",
       "      <td>https://doi.org/10.4088/jcp.v69n1002</td>\n",
       "      <td>None</td>\n",
       "      <td>0</td>\n",
       "      <td>3</td>\n",
       "    </tr>\n",
       "    <tr>\n",
       "      <th>4</th>\n",
       "      <td>4</td>\n",
       "      <td>van_de_Schoot_2018.csv</td>\n",
       "      <td>None</td>\n",
       "      <td>Twelve-Month Use of Mental Health Services in ...</td>\n",
       "      <td>Dramatic changes have occurred in mental healt...</td>\n",
       "      <td>[]</td>\n",
       "      <td>[]</td>\n",
       "      <td>None</td>\n",
       "      <td>https://doi.org/10.1001/archpsyc.62.6.629</td>\n",
       "      <td>None</td>\n",
       "      <td>0</td>\n",
       "      <td>4</td>\n",
       "    </tr>\n",
       "  </tbody>\n",
       "</table>\n",
       "</div>"
      ],
      "text/plain": [
       "   dataset_row              dataset_id duplicate_of  \\\n",
       "0            0  van_de_Schoot_2018.csv         None   \n",
       "1            1  van_de_Schoot_2018.csv         None   \n",
       "2            2  van_de_Schoot_2018.csv         None   \n",
       "3            3  van_de_Schoot_2018.csv         None   \n",
       "4            4  van_de_Schoot_2018.csv         None   \n",
       "\n",
       "                                               title  \\\n",
       "0  Annual Research Review: Resilience and mental ...   \n",
       "1  Profiling the Trauma Related Symptoms of Bosni...   \n",
       "2  Acute panicogenic, anxiogenic and dissociative...   \n",
       "3  A Pooled Analysis of Gender and Trauma-Type Ef...   \n",
       "4  Twelve-Month Use of Mental Health Services in ...   \n",
       "\n",
       "                                            abstract authors keywords  year  \\\n",
       "0  Researchers focused on mental health of confli...      []       []  None   \n",
       "1  The objective of this study was to profile tra...      []       []  None   \n",
       "2  Increased anxiety and panic to inhalation of c...      []       []  None   \n",
       "3  To examine effects of gender and trauma type o...      []       []  None   \n",
       "4  Dramatic changes have occurred in mental healt...      []       []  None   \n",
       "\n",
       "                                                doi   url  included  record_id  \n",
       "0                https://doi.org/10.1111/jcpp.12053  None         0          0  \n",
       "1  https://doi.org/10.1097/00005053-200007000-00004  None         0          1  \n",
       "2  https://doi.org/10.1016/j.jpsychires.2011.01.009  None         0          2  \n",
       "3              https://doi.org/10.4088/jcp.v69n1002  None         0          3  \n",
       "4         https://doi.org/10.1001/archpsyc.62.6.629  None         0          4  "
      ]
     },
     "execution_count": 7,
     "metadata": {},
     "output_type": "execute_result"
    }
   ],
   "source": [
    "dataset.get_df().head()"
   ]
  },
  {
   "cell_type": "markdown",
   "metadata": {},
   "source": [
    "## State API\n",
    "\n",
    "The data stored during the review process can be accessed as a pandas DataFrame using the following code:"
   ]
  },
  {
   "cell_type": "code",
   "execution_count": 8,
   "metadata": {},
   "outputs": [
    {
     "name": "stdout",
     "output_type": "stream",
     "text": [
      "The state contains 322 records.\n"
     ]
    }
   ],
   "source": [
    "with asr.open_state(\"example.asreview\") as state:\n",
    "    df_results = state.get_results_table()\n",
    "    print(f\"The state contains {len(df_results)} records.\")"
   ]
  },
  {
   "cell_type": "markdown",
   "metadata": {},
   "source": [
    "The returned `state` instance is of type [asreview.SQLState](reference/asreview.rst#asreview.SQLiteState). Note that the state contains less records than the original dataset. This is because by default the simulation stopped after finding all relevant records."
   ]
  },
  {
   "cell_type": "code",
   "execution_count": 9,
   "metadata": {},
   "outputs": [
    {
     "data": {
      "text/html": [
       "<div>\n",
       "<style scoped>\n",
       "    .dataframe tbody tr th:only-of-type {\n",
       "        vertical-align: middle;\n",
       "    }\n",
       "\n",
       "    .dataframe tbody tr th {\n",
       "        vertical-align: top;\n",
       "    }\n",
       "\n",
       "    .dataframe thead th {\n",
       "        text-align: right;\n",
       "    }\n",
       "</style>\n",
       "<table border=\"1\" class=\"dataframe\">\n",
       "  <thead>\n",
       "    <tr style=\"text-align: right;\">\n",
       "      <th></th>\n",
       "      <th>record_id</th>\n",
       "      <th>label</th>\n",
       "      <th>classifier</th>\n",
       "      <th>querier</th>\n",
       "      <th>balancer</th>\n",
       "      <th>feature_extractor</th>\n",
       "      <th>training_set</th>\n",
       "      <th>time</th>\n",
       "      <th>note</th>\n",
       "      <th>tags</th>\n",
       "      <th>user_id</th>\n",
       "    </tr>\n",
       "  </thead>\n",
       "  <tbody>\n",
       "    <tr>\n",
       "      <th>312</th>\n",
       "      <td>1376</td>\n",
       "      <td>0</td>\n",
       "      <td>svm</td>\n",
       "      <td>max</td>\n",
       "      <td>balanced</td>\n",
       "      <td>tfidf</td>\n",
       "      <td>312</td>\n",
       "      <td>1746457765.998829</td>\n",
       "      <td>None</td>\n",
       "      <td>None</td>\n",
       "      <td>&lt;NA&gt;</td>\n",
       "    </tr>\n",
       "    <tr>\n",
       "      <th>313</th>\n",
       "      <td>1589</td>\n",
       "      <td>0</td>\n",
       "      <td>svm</td>\n",
       "      <td>max</td>\n",
       "      <td>balanced</td>\n",
       "      <td>tfidf</td>\n",
       "      <td>313</td>\n",
       "      <td>1746457766.009229</td>\n",
       "      <td>None</td>\n",
       "      <td>None</td>\n",
       "      <td>&lt;NA&gt;</td>\n",
       "    </tr>\n",
       "    <tr>\n",
       "      <th>314</th>\n",
       "      <td>2368</td>\n",
       "      <td>0</td>\n",
       "      <td>svm</td>\n",
       "      <td>max</td>\n",
       "      <td>balanced</td>\n",
       "      <td>tfidf</td>\n",
       "      <td>314</td>\n",
       "      <td>1746457766.019135</td>\n",
       "      <td>None</td>\n",
       "      <td>None</td>\n",
       "      <td>&lt;NA&gt;</td>\n",
       "    </tr>\n",
       "    <tr>\n",
       "      <th>315</th>\n",
       "      <td>1359</td>\n",
       "      <td>0</td>\n",
       "      <td>svm</td>\n",
       "      <td>max</td>\n",
       "      <td>balanced</td>\n",
       "      <td>tfidf</td>\n",
       "      <td>315</td>\n",
       "      <td>1746457766.028713</td>\n",
       "      <td>None</td>\n",
       "      <td>None</td>\n",
       "      <td>&lt;NA&gt;</td>\n",
       "    </tr>\n",
       "    <tr>\n",
       "      <th>316</th>\n",
       "      <td>952</td>\n",
       "      <td>0</td>\n",
       "      <td>svm</td>\n",
       "      <td>max</td>\n",
       "      <td>balanced</td>\n",
       "      <td>tfidf</td>\n",
       "      <td>316</td>\n",
       "      <td>1746457766.038262</td>\n",
       "      <td>None</td>\n",
       "      <td>None</td>\n",
       "      <td>&lt;NA&gt;</td>\n",
       "    </tr>\n",
       "    <tr>\n",
       "      <th>317</th>\n",
       "      <td>1754</td>\n",
       "      <td>0</td>\n",
       "      <td>svm</td>\n",
       "      <td>max</td>\n",
       "      <td>balanced</td>\n",
       "      <td>tfidf</td>\n",
       "      <td>317</td>\n",
       "      <td>1746457766.04837</td>\n",
       "      <td>None</td>\n",
       "      <td>None</td>\n",
       "      <td>&lt;NA&gt;</td>\n",
       "    </tr>\n",
       "    <tr>\n",
       "      <th>318</th>\n",
       "      <td>1985</td>\n",
       "      <td>0</td>\n",
       "      <td>svm</td>\n",
       "      <td>max</td>\n",
       "      <td>balanced</td>\n",
       "      <td>tfidf</td>\n",
       "      <td>318</td>\n",
       "      <td>1746457766.05749</td>\n",
       "      <td>None</td>\n",
       "      <td>None</td>\n",
       "      <td>&lt;NA&gt;</td>\n",
       "    </tr>\n",
       "    <tr>\n",
       "      <th>319</th>\n",
       "      <td>1196</td>\n",
       "      <td>0</td>\n",
       "      <td>svm</td>\n",
       "      <td>max</td>\n",
       "      <td>balanced</td>\n",
       "      <td>tfidf</td>\n",
       "      <td>319</td>\n",
       "      <td>1746457766.06699</td>\n",
       "      <td>None</td>\n",
       "      <td>None</td>\n",
       "      <td>&lt;NA&gt;</td>\n",
       "    </tr>\n",
       "    <tr>\n",
       "      <th>320</th>\n",
       "      <td>1008</td>\n",
       "      <td>0</td>\n",
       "      <td>svm</td>\n",
       "      <td>max</td>\n",
       "      <td>balanced</td>\n",
       "      <td>tfidf</td>\n",
       "      <td>320</td>\n",
       "      <td>1746457766.076556</td>\n",
       "      <td>None</td>\n",
       "      <td>None</td>\n",
       "      <td>&lt;NA&gt;</td>\n",
       "    </tr>\n",
       "    <tr>\n",
       "      <th>321</th>\n",
       "      <td>3442</td>\n",
       "      <td>1</td>\n",
       "      <td>svm</td>\n",
       "      <td>max</td>\n",
       "      <td>balanced</td>\n",
       "      <td>tfidf</td>\n",
       "      <td>321</td>\n",
       "      <td>1746457766.086036</td>\n",
       "      <td>None</td>\n",
       "      <td>None</td>\n",
       "      <td>&lt;NA&gt;</td>\n",
       "    </tr>\n",
       "  </tbody>\n",
       "</table>\n",
       "</div>"
      ],
      "text/plain": [
       "     record_id  label classifier querier  balancer feature_extractor  \\\n",
       "312       1376      0        svm     max  balanced             tfidf   \n",
       "313       1589      0        svm     max  balanced             tfidf   \n",
       "314       2368      0        svm     max  balanced             tfidf   \n",
       "315       1359      0        svm     max  balanced             tfidf   \n",
       "316        952      0        svm     max  balanced             tfidf   \n",
       "317       1754      0        svm     max  balanced             tfidf   \n",
       "318       1985      0        svm     max  balanced             tfidf   \n",
       "319       1196      0        svm     max  balanced             tfidf   \n",
       "320       1008      0        svm     max  balanced             tfidf   \n",
       "321       3442      1        svm     max  balanced             tfidf   \n",
       "\n",
       "     training_set               time  note  tags  user_id  \n",
       "312           312  1746457765.998829  None  None     <NA>  \n",
       "313           313  1746457766.009229  None  None     <NA>  \n",
       "314           314  1746457766.019135  None  None     <NA>  \n",
       "315           315  1746457766.028713  None  None     <NA>  \n",
       "316           316  1746457766.038262  None  None     <NA>  \n",
       "317           317   1746457766.04837  None  None     <NA>  \n",
       "318           318   1746457766.05749  None  None     <NA>  \n",
       "319           319   1746457766.06699  None  None     <NA>  \n",
       "320           320  1746457766.076556  None  None     <NA>  \n",
       "321           321  1746457766.086036  None  None     <NA>  "
      ]
     },
     "execution_count": 9,
     "metadata": {},
     "output_type": "execute_result"
    }
   ],
   "source": [
    "df_results.tail(10)"
   ]
  },
  {
   "cell_type": "markdown",
   "metadata": {},
   "source": [
    "You can merge the information from the state file with the original dataset. "
   ]
  },
  {
   "cell_type": "code",
   "execution_count": 10,
   "metadata": {},
   "outputs": [
    {
     "data": {
      "text/html": [
       "<div>\n",
       "<style scoped>\n",
       "    .dataframe tbody tr th:only-of-type {\n",
       "        vertical-align: middle;\n",
       "    }\n",
       "\n",
       "    .dataframe tbody tr th {\n",
       "        vertical-align: top;\n",
       "    }\n",
       "\n",
       "    .dataframe thead th {\n",
       "        text-align: right;\n",
       "    }\n",
       "</style>\n",
       "<table border=\"1\" class=\"dataframe\">\n",
       "  <thead>\n",
       "    <tr style=\"text-align: right;\">\n",
       "      <th></th>\n",
       "      <th>labeling_order</th>\n",
       "      <th>record_id</th>\n",
       "      <th>label</th>\n",
       "      <th>classifier</th>\n",
       "      <th>querier</th>\n",
       "      <th>balancer</th>\n",
       "      <th>feature_extractor</th>\n",
       "      <th>training_set</th>\n",
       "      <th>time</th>\n",
       "      <th>note</th>\n",
       "      <th>...</th>\n",
       "      <th>dataset_id</th>\n",
       "      <th>duplicate_of</th>\n",
       "      <th>title</th>\n",
       "      <th>abstract</th>\n",
       "      <th>authors</th>\n",
       "      <th>keywords</th>\n",
       "      <th>year</th>\n",
       "      <th>doi</th>\n",
       "      <th>url</th>\n",
       "      <th>included</th>\n",
       "    </tr>\n",
       "  </thead>\n",
       "  <tbody>\n",
       "    <tr>\n",
       "      <th>0</th>\n",
       "      <td>0</td>\n",
       "      <td>0</td>\n",
       "      <td>0</td>\n",
       "      <td>None</td>\n",
       "      <td>top_down</td>\n",
       "      <td>None</td>\n",
       "      <td>None</td>\n",
       "      <td>0</td>\n",
       "      <td>1746457762.147489</td>\n",
       "      <td>None</td>\n",
       "      <td>...</td>\n",
       "      <td>van_de_Schoot_2018.csv</td>\n",
       "      <td>None</td>\n",
       "      <td>Annual Research Review: Resilience and mental ...</td>\n",
       "      <td>Researchers focused on mental health of confli...</td>\n",
       "      <td>[]</td>\n",
       "      <td>[]</td>\n",
       "      <td>None</td>\n",
       "      <td>https://doi.org/10.1111/jcpp.12053</td>\n",
       "      <td>None</td>\n",
       "      <td>0</td>\n",
       "    </tr>\n",
       "    <tr>\n",
       "      <th>1</th>\n",
       "      <td>1</td>\n",
       "      <td>1</td>\n",
       "      <td>0</td>\n",
       "      <td>None</td>\n",
       "      <td>top_down</td>\n",
       "      <td>None</td>\n",
       "      <td>None</td>\n",
       "      <td>1</td>\n",
       "      <td>1746457762.150226</td>\n",
       "      <td>None</td>\n",
       "      <td>...</td>\n",
       "      <td>van_de_Schoot_2018.csv</td>\n",
       "      <td>None</td>\n",
       "      <td>Profiling the Trauma Related Symptoms of Bosni...</td>\n",
       "      <td>The objective of this study was to profile tra...</td>\n",
       "      <td>[]</td>\n",
       "      <td>[]</td>\n",
       "      <td>None</td>\n",
       "      <td>https://doi.org/10.1097/00005053-200007000-00004</td>\n",
       "      <td>None</td>\n",
       "      <td>0</td>\n",
       "    </tr>\n",
       "    <tr>\n",
       "      <th>2</th>\n",
       "      <td>2</td>\n",
       "      <td>2</td>\n",
       "      <td>0</td>\n",
       "      <td>None</td>\n",
       "      <td>top_down</td>\n",
       "      <td>None</td>\n",
       "      <td>None</td>\n",
       "      <td>2</td>\n",
       "      <td>1746457762.15211</td>\n",
       "      <td>None</td>\n",
       "      <td>...</td>\n",
       "      <td>van_de_Schoot_2018.csv</td>\n",
       "      <td>None</td>\n",
       "      <td>Acute panicogenic, anxiogenic and dissociative...</td>\n",
       "      <td>Increased anxiety and panic to inhalation of c...</td>\n",
       "      <td>[]</td>\n",
       "      <td>[]</td>\n",
       "      <td>None</td>\n",
       "      <td>https://doi.org/10.1016/j.jpsychires.2011.01.009</td>\n",
       "      <td>None</td>\n",
       "      <td>0</td>\n",
       "    </tr>\n",
       "    <tr>\n",
       "      <th>3</th>\n",
       "      <td>3</td>\n",
       "      <td>3</td>\n",
       "      <td>0</td>\n",
       "      <td>None</td>\n",
       "      <td>top_down</td>\n",
       "      <td>None</td>\n",
       "      <td>None</td>\n",
       "      <td>3</td>\n",
       "      <td>1746457762.153575</td>\n",
       "      <td>None</td>\n",
       "      <td>...</td>\n",
       "      <td>van_de_Schoot_2018.csv</td>\n",
       "      <td>None</td>\n",
       "      <td>A Pooled Analysis of Gender and Trauma-Type Ef...</td>\n",
       "      <td>To examine effects of gender and trauma type o...</td>\n",
       "      <td>[]</td>\n",
       "      <td>[]</td>\n",
       "      <td>None</td>\n",
       "      <td>https://doi.org/10.4088/jcp.v69n1002</td>\n",
       "      <td>None</td>\n",
       "      <td>0</td>\n",
       "    </tr>\n",
       "    <tr>\n",
       "      <th>4</th>\n",
       "      <td>4</td>\n",
       "      <td>4</td>\n",
       "      <td>0</td>\n",
       "      <td>None</td>\n",
       "      <td>top_down</td>\n",
       "      <td>None</td>\n",
       "      <td>None</td>\n",
       "      <td>4</td>\n",
       "      <td>1746457762.154858</td>\n",
       "      <td>None</td>\n",
       "      <td>...</td>\n",
       "      <td>van_de_Schoot_2018.csv</td>\n",
       "      <td>None</td>\n",
       "      <td>Twelve-Month Use of Mental Health Services in ...</td>\n",
       "      <td>Dramatic changes have occurred in mental healt...</td>\n",
       "      <td>[]</td>\n",
       "      <td>[]</td>\n",
       "      <td>None</td>\n",
       "      <td>https://doi.org/10.1001/archpsyc.62.6.629</td>\n",
       "      <td>None</td>\n",
       "      <td>0</td>\n",
       "    </tr>\n",
       "  </tbody>\n",
       "</table>\n",
       "<p>5 rows × 23 columns</p>\n",
       "</div>"
      ],
      "text/plain": [
       "   labeling_order  record_id  label classifier   querier balancer  \\\n",
       "0               0          0      0       None  top_down     None   \n",
       "1               1          1      0       None  top_down     None   \n",
       "2               2          2      0       None  top_down     None   \n",
       "3               3          3      0       None  top_down     None   \n",
       "4               4          4      0       None  top_down     None   \n",
       "\n",
       "  feature_extractor  training_set               time  note  ...  \\\n",
       "0              None             0  1746457762.147489  None  ...   \n",
       "1              None             1  1746457762.150226  None  ...   \n",
       "2              None             2   1746457762.15211  None  ...   \n",
       "3              None             3  1746457762.153575  None  ...   \n",
       "4              None             4  1746457762.154858  None  ...   \n",
       "\n",
       "               dataset_id  duplicate_of  \\\n",
       "0  van_de_Schoot_2018.csv          None   \n",
       "1  van_de_Schoot_2018.csv          None   \n",
       "2  van_de_Schoot_2018.csv          None   \n",
       "3  van_de_Schoot_2018.csv          None   \n",
       "4  van_de_Schoot_2018.csv          None   \n",
       "\n",
       "                                               title  \\\n",
       "0  Annual Research Review: Resilience and mental ...   \n",
       "1  Profiling the Trauma Related Symptoms of Bosni...   \n",
       "2  Acute panicogenic, anxiogenic and dissociative...   \n",
       "3  A Pooled Analysis of Gender and Trauma-Type Ef...   \n",
       "4  Twelve-Month Use of Mental Health Services in ...   \n",
       "\n",
       "                                            abstract authors keywords  year  \\\n",
       "0  Researchers focused on mental health of confli...      []       []  None   \n",
       "1  The objective of this study was to profile tra...      []       []  None   \n",
       "2  Increased anxiety and panic to inhalation of c...      []       []  None   \n",
       "3  To examine effects of gender and trauma type o...      []       []  None   \n",
       "4  Dramatic changes have occurred in mental healt...      []       []  None   \n",
       "\n",
       "                                                doi   url included  \n",
       "0                https://doi.org/10.1111/jcpp.12053  None        0  \n",
       "1  https://doi.org/10.1097/00005053-200007000-00004  None        0  \n",
       "2  https://doi.org/10.1016/j.jpsychires.2011.01.009  None        0  \n",
       "3              https://doi.org/10.4088/jcp.v69n1002  None        0  \n",
       "4         https://doi.org/10.1001/archpsyc.62.6.629  None        0  \n",
       "\n",
       "[5 rows x 23 columns]"
      ]
     },
     "execution_count": 10,
     "metadata": {},
     "output_type": "execute_result"
    }
   ],
   "source": [
    "dataset_with_results = df_results.reset_index(names=\"labeling_order\").join(\n",
    "    dataset.get_df().set_index(\"record_id\")\n",
    ")\n",
    "dataset_with_results.head()"
   ]
  },
  {
   "cell_type": "markdown",
   "metadata": {},
   "source": [
    "There are also multiple functions to obtain one specific variable in the data. For example, to plot the labeling times in a graph, use the following code (keep in mind that this data is from a simulation): "
   ]
  },
  {
   "cell_type": "code",
   "execution_count": 11,
   "metadata": {},
   "outputs": [
    {
     "data": {
      "text/plain": [
       "<Axes: title={'center': 'Time of labeling'}>"
      ]
     },
     "execution_count": 11,
     "metadata": {},
     "output_type": "execute_result"
    },
    {
     "data": {
      "image/png": "[encoded data removed]",
      "text/plain": [
       "<Figure size 640x480 with 1 Axes>"
      ]
     },
     "metadata": {},
     "output_type": "display_data"
    }
   ],
   "source": [
    "df_results[\"time\"].plot(title=\"Time of labeling\")"
   ]
  },
  {
   "cell_type": "markdown",
   "metadata": {},
   "source": [
    "By default, the records that are part of the prior knowledge are included in the results. To obtain the labels use the following code:"
   ]
  },
  {
   "cell_type": "code",
   "execution_count": 12,
   "metadata": {},
   "outputs": [
    {
     "data": {
      "text/plain": [
       "0      0\n",
       "1      0\n",
       "2      0\n",
       "3      0\n",
       "4      0\n",
       "      ..\n",
       "317    0\n",
       "318    0\n",
       "319    0\n",
       "320    0\n",
       "321    1\n",
       "Name: label, Length: 322, dtype: Int64"
      ]
     },
     "execution_count": 12,
     "metadata": {},
     "output_type": "execute_result"
    }
   ],
   "source": [
    "df_results[\"label\"]"
   ]
  },
  {
   "attachments": {},
   "cell_type": "markdown",
   "metadata": {},
   "source": [
    "For normal reviews, the state also contains the ranking of the last iteration of the machine learning model. To get these, use the following code:"
   ]
  },
  {
   "cell_type": "code",
   "execution_count": 13,
   "metadata": {},
   "outputs": [
    {
     "data": {
      "text/html": [
       "<div>\n",
       "<style scoped>\n",
       "    .dataframe tbody tr th:only-of-type {\n",
       "        vertical-align: middle;\n",
       "    }\n",
       "\n",
       "    .dataframe tbody tr th {\n",
       "        vertical-align: top;\n",
       "    }\n",
       "\n",
       "    .dataframe thead th {\n",
       "        text-align: right;\n",
       "    }\n",
       "</style>\n",
       "<table border=\"1\" class=\"dataframe\">\n",
       "  <thead>\n",
       "    <tr style=\"text-align: right;\">\n",
       "      <th></th>\n",
       "      <th>record_id</th>\n",
       "      <th>ranking</th>\n",
       "      <th>classifier</th>\n",
       "      <th>querier</th>\n",
       "      <th>balancer</th>\n",
       "      <th>feature_extractor</th>\n",
       "      <th>training_set</th>\n",
       "      <th>time</th>\n",
       "    </tr>\n",
       "  </thead>\n",
       "  <tbody>\n",
       "  </tbody>\n",
       "</table>\n",
       "</div>"
      ],
      "text/plain": [
       "Empty DataFrame\n",
       "Columns: [record_id, ranking, classifier, querier, balancer, feature_extractor, training_set, time]\n",
       "Index: []"
      ]
     },
     "execution_count": 13,
     "metadata": {},
     "output_type": "execute_result"
    }
   ],
   "source": [
    "with asr.open_state(\"example.asreview\") as state:\n",
    "    last_ranking = state.get_last_ranking_table()\n",
    "\n",
    "last_ranking"
   ]
  }
 ],
 "metadata": {
  "kernelspec": {
   "display_name": "asreview-dev",
   "language": "python",
   "name": "python3"
  },
  "language_info": {
   "codemirror_mode": {
    "name": "ipython",
    "version": 3
   },
   "file_extension": ".py",
   "mimetype": "text/x-python",
   "name": "python",
   "nbconvert_exporter": "python",
   "pygments_lexer": "ipython3",
   "version": "3.12.0"
  }
 },
 "nbformat": 4,
 "nbformat_minor": 2
}
