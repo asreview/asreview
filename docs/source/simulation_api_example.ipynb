{
 "cells": [
  {
   "cell_type": "markdown",
   "id": "be79a9d5",
   "metadata": {},
   "source": [
    "# Simulate with Python API\n",
    "\n",
    "<div class=\"alert alert-warning\">\n",
    "\n",
    "The API is still under development and can change at any time without warning. \n",
    "\n",
    "</div>\n",
    "\n",
    "For more control over the workings of the ASReview software, the ASReview Python API can be used. For example, it is possible to use custom models or implement different sampling strategies. This example shows how to simulate a review with the ASReview API and store the results in an ASReview project file. \n",
    "\n",
    "Please keep in mind that the ASReview API is experimental at the moment. Improvements and simplifications are planned. "
   ]
  },
  {
   "cell_type": "code",
   "execution_count": 1,
   "id": "5ea4a81e",
   "metadata": {},
   "outputs": [],
   "source": [
    "from pathlib import Path\n",
    "\n",
    "from asreview import ASReviewData, ASReviewProject\n",
    "from asreview.review import ReviewSimulate\n"
   ]
  },
  {
   "cell_type": "markdown",
   "id": "d50dfed7",
   "metadata": {},
   "source": [
    "Create a temporary folder for the results and examples in this document."
   ]
  },
  {
   "cell_type": "code",
   "execution_count": 2,
   "id": "9665fa37",
   "metadata": {},
   "outputs": [],
   "source": [
    "project_path = Path(\"tmp_data\")\n",
    "project_path.mkdir(exist_ok=True)\n"
   ]
  },
  {
   "cell_type": "markdown",
   "id": "abd0c6fc",
   "metadata": {},
   "source": [
    "Create an [ASReviewProject](generated/asreview.Project.rst) to store the results"
   ]
  },
  {
   "cell_type": "code",
   "execution_count": 3,
   "id": "33d2b6b2",
   "metadata": {},
   "outputs": [],
   "source": [
    "# Create a project object and folder\n",
    "project = ASReviewProject.create(\n",
    "    project_path=project_path / \"api_simulation\",\n",
    "    project_id=\"api_example\",\n",
    "    project_mode=\"simulate\",\n",
    "    project_name=\"api_example\",\n",
    ")\n"
   ]
  },
  {
   "cell_type": "markdown",
   "id": "656ddec4",
   "metadata": {},
   "source": [
    "Add a dataset to the project folder in the folder `data` (can also be stored somewhere else, but it is advised to use the data folder). In the following example, a dataset is downloaded from the benchmark platform with CURL (macOS, Unix systems)."
   ]
  },
  {
   "cell_type": "code",
   "execution_count": 4,
   "id": "b45e456e",
   "metadata": {},
   "outputs": [
    {
     "name": "stderr",
     "output_type": "stream",
     "text": [
      "  % Total    % Received % Xferd  Average Speed   Time    Time     Time  Current\n",
      "                                 Dload  Upload   Total   Spent    Left  Speed\n",
      "100  9.9M  100  9.9M    0     0  13.2M      0 --:--:-- --:--:-- --:--:-- 13.2M\n"
     ]
    }
   ],
   "source": [
    "%%bash\n",
    "curl https://raw.githubusercontent.com/asreview/systematic-review-datasets/metadata-v1-final/datasets/van_de_Schoot_2017/output/van_de_Schoot_2017.csv > tmp_data/api_simulation/data/van_de_Schoot_2017.csv\n"
   ]
  },
  {
   "cell_type": "markdown",
   "id": "4cb7bdf7",
   "metadata": {},
   "source": [
    "Add the reference to the dataset to the project. "
   ]
  },
  {
   "cell_type": "code",
   "execution_count": 5,
   "id": "425a0976",
   "metadata": {},
   "outputs": [],
   "source": [
    "project.add_dataset(\"van_de_Schoot_2017.csv\")\n"
   ]
  },
  {
   "cell_type": "markdown",
   "id": "d0c52295",
   "metadata": {},
   "source": [
    "Setup the models."
   ]
  },
  {
   "cell_type": "code",
   "execution_count": 6,
   "id": "5220ee4c",
   "metadata": {},
   "outputs": [],
   "source": [
    "from asreview.models.classifiers import NaiveBayesClassifier\n",
    "from asreview.models.query import MaxQuery\n",
    "from asreview.models.balance import DoubleBalance\n",
    "from asreview.models.feature_extraction import Tfidf\n",
    "\n",
    "# Select models to use\n",
    "train_model = NaiveBayesClassifier()\n",
    "query_model = MaxQuery()\n",
    "balance_model = DoubleBalance()\n",
    "feature_model = Tfidf()\n"
   ]
  },
  {
   "cell_type": "markdown",
   "id": "0bfe0c74",
   "metadata": {},
   "source": [
    "Run the simulation with the `ReviewSimulate` class. "
   ]
  },
  {
   "cell_type": "code",
   "execution_count": 7,
   "id": "d8191f43",
   "metadata": {},
   "outputs": [],
   "source": [
    "data_obj = ASReviewData.from_file(\n",
    "    Path(\"tmp_data\", \"api_simulation\", \"data\", \"van_de_Schoot_2017.csv\")\n",
    ")\n"
   ]
  },
  {
   "cell_type": "code",
   "execution_count": 8,
   "id": "8d71a8f8",
   "metadata": {},
   "outputs": [],
   "source": [
    "# Initialize the simulation reviewer\n",
    "reviewer = ReviewSimulate(\n",
    "    as_data=data_obj,\n",
    "    model=train_model,\n",
    "    query_model=query_model,\n",
    "    balance_model=balance_model,\n",
    "    feature_model=feature_model,\n",
    "    n_instances=10,\n",
    "    project=project,\n",
    "    n_prior_included=1,\n",
    "    n_prior_excluded=1,\n",
    ")\n"
   ]
  },
  {
   "cell_type": "code",
   "execution_count": 9,
   "id": "e6f9b3fe",
   "metadata": {},
   "outputs": [],
   "source": [
    "# Start the review process\n",
    "project.update_review(status=\"review\")\n",
    "try:\n",
    "    reviewer.review()\n",
    "    project.mark_review_finished()\n",
    "except Exception as err:\n",
    "    project.update_review(status=\"error\")\n",
    "    raise err\n"
   ]
  },
  {
   "cell_type": "markdown",
   "id": "ea5106b6",
   "metadata": {},
   "source": [
    "Export the project to a location of choice, in this case `tmp_data/api_example.asreview`."
   ]
  },
  {
   "cell_type": "code",
   "execution_count": 10,
   "id": "c24b9a48",
   "metadata": {},
   "outputs": [],
   "source": [
    "# Finish and export the project\n",
    "project.export(Path(\"tmp_data\", \"api_example.asreview\"))\n"
   ]
  },
  {
   "cell_type": "markdown",
   "id": "cc1d6f51",
   "metadata": {},
   "source": [
    "The following code removes the temporary folder that was created:"
   ]
  },
  {
   "cell_type": "code",
   "execution_count": 11,
   "id": "fcf508d4",
   "metadata": {},
   "outputs": [],
   "source": [
    "import shutil\n",
    "\n",
    "shutil.rmtree(project_path)\n"
   ]
  }
 ],
 "metadata": {
  "kernelspec": {
   "display_name": "Python 3 (ipykernel)",
   "language": "python",
   "name": "python3"
  },
  "language_info": {
   "codemirror_mode": {
    "name": "ipython",
    "version": 3
   },
   "file_extension": ".py",
   "mimetype": "text/x-python",
   "name": "python",
   "nbconvert_exporter": "python",
   "pygments_lexer": "ipython3",
   "version": "3.9.7"
  }
 },
 "nbformat": 4,
 "nbformat_minor": 5
}
